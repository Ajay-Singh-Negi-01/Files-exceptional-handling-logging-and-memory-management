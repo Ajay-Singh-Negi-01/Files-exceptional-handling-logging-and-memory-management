{
  "nbformat": 4,
  "nbformat_minor": 0,
  "metadata": {
    "colab": {
      "provenance": []
    },
    "kernelspec": {
      "name": "python3",
      "display_name": "Python 3"
    },
    "language_info": {
      "name": "python"
    }
  },
  "cells": [
    {
      "cell_type": "markdown",
      "source": [
        "# Files, exceptional handling, logging and memory management Questions     \n",
        "\n",
        "1. What is the difference between interpreted and compiled languages ?      \n",
        "  - The main difference between iterpreted and compiled languages lies in how the source code is converted into machine code and when that happens.   \n",
        "  Compiled Languages:-      \n",
        "  . Process: The entire program is translated into machine code before execution by a compiler.    \n",
        "  . Execution Speed: Usually faster, because the program is already in machine code.    \n",
        "  . Erro Checking: Many errors are caught at comple time.   \n",
        "  . Examples : C, C++, Rust, Go.    \n",
        "  Interpreted Languages :-       \n",
        "  . Process : The interpreter reads and executes the code line by line at runtime.    \n",
        "  . Execution Speed : Usually slower, becuase translation happens while running.    \n",
        "  . Error Checking : Errors are found when that part of the code runs.    \n",
        "  . Examples : Python, JavaScript, PHP, Ruby.     \n",
        "  Quick Analogy :         \n",
        "  . Compiled = Writing a book in your language and the fully translating it before giving it to a reader.     \n",
        "  . Interpreted = Reading the book to the reader and translating each sentence as you go.    \n"
      ],
      "metadata": {
        "id": "12AQuiNPLBkg"
      }
    },
    {
      "cell_type": "code",
      "execution_count": null,
      "metadata": {
        "id": "L5F217eSK2Fx"
      },
      "outputs": [],
      "source": [
        "# Workflow of Compiled Languages\n",
        "\n",
        "Source Code - Compiler - Machine code - Execute\n",
        "\n",
        "\n",
        "# Workflow in Interpreted Languages\n",
        "\n",
        "Source Code - Interpreter - Execute"
      ]
    },
    {
      "cell_type": "markdown",
      "source": [
        "2. What is exception handling in Python ?       \n",
        "  - Exeption handling in Python is way to deal with errors in your program without stopping the entire program.   \n",
        "  When Python encounters an error during execution (like dividing by zero or trying to open a non-existent file), it raises an exception.   \n",
        "  If you don't handle it, the program will crash.     \n",
        "  Key Parts of Exception Handling in Python      \n",
        "  . Try - Put the risky code inside this block.      \n",
        "  . except - Handles the error if it occurs.     \n",
        "  . else - Runs if no error accurs (optional).     \n",
        "  . finally = Runs no matter what, for cleanup tasks (optional).     \n"
      ],
      "metadata": {
        "id": "2qjx5_NQOZ_E"
      }
    },
    {
      "cell_type": "code",
      "source": [
        "try:\n",
        "  num = int(input(\"Enter a number: \"))\n",
        "  result = 10/ num\n",
        "except ZeroDivisionError:\n",
        "  print(\"You can't divide by zero!\")\n",
        "except ValueError:\n",
        "  print(\"Invalid input. Please enter a number.\")\n",
        "else:\n",
        "  print(\"Result:\", result)\n",
        "finally:\n",
        "  print(\"This will always run.\")"
      ],
      "metadata": {
        "colab": {
          "base_uri": "https://localhost:8080/"
        },
        "id": "FYBv72apRNAM",
        "outputId": "b548b57d-6780-4467-ddda-be741b107336"
      },
      "execution_count": null,
      "outputs": [
        {
          "output_type": "stream",
          "name": "stdout",
          "text": [
            "Enter a number: 3\n",
            "Result: 3.3333333333333335\n",
            "This will always run.\n"
          ]
        }
      ]
    },
    {
      "cell_type": "markdown",
      "source": [
        "3. What is the purpose of the finally block in exception handling ?       \n",
        "  - In Python, the finally block is used to define code that always runs, whether an exception occurs or not.    \n",
        "  Its main purpose is to handle cleanup tasks like closing files, releasing resources, or disconnecting from databases.    \n",
        "  "
      ],
      "metadata": {
        "id": "WyFM9D9VR_eC"
      }
    },
    {
      "cell_type": "code",
      "source": [
        "try:\n",
        "  file = open(\"data.txt\",\"r\")\n",
        "except FileNotFoundError:\n",
        "  print(\"File not found\")\n",
        "finally:\n",
        "  file.close()\n",
        "  print(\"File closed\")"
      ],
      "metadata": {
        "colab": {
          "base_uri": "https://localhost:8080/"
        },
        "id": "Grfmjy9ySrxD",
        "outputId": "62896126-e2b8-41a2-c2c3-2489bb8f4117"
      },
      "execution_count": null,
      "outputs": [
        {
          "output_type": "stream",
          "name": "stdout",
          "text": [
            "File closed\n"
          ]
        }
      ]
    },
    {
      "cell_type": "markdown",
      "source": [
        "4. What is logging in Python ?    \n",
        "  - Logging in Python is a way to record messages from your program to track events, debug issues, or monitor its behavior.     \n",
        "  . Categorize messages by severity level (DEBUG, INFO, WARNING, ERROR, CRITICAL)       \n",
        "  . Save logs to files or display them in the console     \n",
        "  . Control which messages appear by setting a logging level .     \n"
      ],
      "metadata": {
        "id": "RTupn4XOTN16"
      }
    },
    {
      "cell_type": "code",
      "source": [
        "import logging\n",
        "\n",
        "logging.basicConfig(level = logging.INFO, force = True)\n",
        "logging.info(\"Program started\")\n",
        "logging.warning(\"Low disk space\")\n",
        "logging.error(\"File not found\")"
      ],
      "metadata": {
        "colab": {
          "base_uri": "https://localhost:8080/"
        },
        "id": "xGSeckILCpPv",
        "outputId": "98cf81a1-c4ce-4da2-fe0e-51dcc6237b86"
      },
      "execution_count": null,
      "outputs": [
        {
          "output_type": "stream",
          "name": "stderr",
          "text": [
            "INFO:root:Program started\n",
            "WARNING:root:Low disk space\n",
            "ERROR:root:File not found\n"
          ]
        }
      ]
    },
    {
      "cell_type": "markdown",
      "source": [
        "5. What is the significance of the __del__ method in Python ?     \n",
        "  - In Python, the __del__ method is a destructor - it's called automatically when a object is about to be destroyed ( garbage collectod).    \n",
        "  Significance :         \n",
        "  . I allows you to clean up resources (close files, release network connections, free memory) before the object is removed from memory.    \n",
        "  . It runs when the object's reference count drops to zero.       \n",
        "  Note :       \n",
        "  . You shoudn't rely on __del__ for critical cleanup because Python's garbage collection timing isn't always predictable.     \n",
        "  . For resource cleanup, using with statements or try.....finally is safer.      "
      ],
      "metadata": {
        "id": "a8aLeXgTDPY8"
      }
    },
    {
      "cell_type": "code",
      "source": [
        "class MyClass:\n",
        "  def __del__(self):\n",
        "    print(\"Object is being destroyed\")\n",
        "\n",
        "obj = MyClass()\n",
        "del obj"
      ],
      "metadata": {
        "colab": {
          "base_uri": "https://localhost:8080/"
        },
        "id": "Mr2G_3m4IOtk",
        "outputId": "0fccf245-d2b6-4bd3-decf-5a5ec6b7b6b4"
      },
      "execution_count": null,
      "outputs": [
        {
          "output_type": "stream",
          "name": "stdout",
          "text": [
            "Object is being destroyed\n"
          ]
        }
      ]
    },
    {
      "cell_type": "markdown",
      "source": [
        "6. What is the difference between import and from ... import in Python ?        \n",
        "  - The differrence between import and from...import in Python is mainly about how you access the imported items.     \n",
        "  . import module :       \n",
        "  Imports the entire module.      \n",
        "  You must use the module name to access its functions, classes or variables.      \n",
        "  . from module import name :      \n",
        "  Imports only the specified function, class, or variable from a module.      \n",
        "  You can use it directly without the module name.      \n",
        "  Key Point :        \n",
        "  import keeps the namespace clean and avoids namings conflicts.     \n",
        "  from....import is shorter, but may cause name clashes if the same name exists in multiple modules.      \n",
        "  "
      ],
      "metadata": {
        "id": "psmNqU1VIgmL"
      }
    },
    {
      "cell_type": "code",
      "source": [
        "# import module\n",
        "\n",
        "import math\n",
        "print(math.sqrt(16))\n",
        "\n",
        "# from module import name\n",
        "\n",
        "from math import sqrt\n",
        "print(sqrt(16))"
      ],
      "metadata": {
        "colab": {
          "base_uri": "https://localhost:8080/"
        },
        "id": "r4vrDw-DKqJg",
        "outputId": "eef7b22a-f68d-406c-d6cd-81dfc37e6e43"
      },
      "execution_count": null,
      "outputs": [
        {
          "output_type": "stream",
          "name": "stdout",
          "text": [
            "4.0\n",
            "4.0\n"
          ]
        }
      ]
    },
    {
      "cell_type": "markdown",
      "source": [
        "7. How can you handle multiple exceptions in Python ?      \n",
        "  - In Python, Multiple exceptions can be hadled by using:    \n",
        "  . Multiple except blocks - each handles a specific exception separately.      \n",
        "  . A single except with a tuple - handles multiple exceptions with the same logic.    \n",
        "  "
      ],
      "metadata": {
        "id": "1gzHKuAoLVHj"
      }
    },
    {
      "cell_type": "code",
      "source": [
        "# Example\n",
        "\n",
        "try:\n",
        "  num = int(\"abc\")\n",
        "  result = 10/0\n",
        "except ValueError:\n",
        "  print(\"Invalid value entered.\")\n",
        "except ZeroDivisionError:\n",
        "  print(\"Division by zero is not allowed.\")\n",
        "\n",
        "\n",
        "try:\n",
        "  num = int(\"abc\")\n",
        "except(ValueError, TypeError) as e:\n",
        "  print(f\"An error occurred: {e}\")\n",
        "\n",
        "\n",
        "\n",
        "except Exception as e:\n",
        "  print(f\"Unexpected error:{e}\")"
      ],
      "metadata": {
        "colab": {
          "base_uri": "https://localhost:8080/"
        },
        "id": "oSgAmweYLUOR",
        "outputId": "7a26f0d2-139f-4bdf-f522-c597c3ba5769"
      },
      "execution_count": null,
      "outputs": [
        {
          "output_type": "stream",
          "name": "stdout",
          "text": [
            "Invalid value entered.\n",
            "An error occurred: invalid literal for int() with base 10: 'abc'\n"
          ]
        }
      ]
    },
    {
      "cell_type": "markdown",
      "source": [
        "8. What is the purpose of the with statement when handling files in Python ?       \n",
        "  - In Python the with statement is mainly used with context managers (like files) to handle setup and cleanup automatically.      \n",
        "  When open a file using with open(.....) as f: ,Python:     \n",
        "  . Open the file.     \n",
        "  . Lets you work with it inside the with block.    \n",
        "  . Automatically closes the file when the block ends, even if an error happens.    \n",
        "  This avoids memory leaks and makes code cleaner.    \n",
        "  . No need to call file.close() manually.    \n",
        "  . Prevents errors if file closing is forgotten.    \n",
        "  . Safer when errors occur during file operations.    \n",
        "  "
      ],
      "metadata": {
        "id": "nvGFHtL7OBSB"
      }
    },
    {
      "cell_type": "code",
      "source": [
        "with open(\"example.text\",\"w\") as file:\n",
        "  file.write(\"Hello, Python!\")\n",
        "\n",
        "print(\"File is closed automatically after the with  block.\")"
      ],
      "metadata": {
        "colab": {
          "base_uri": "https://localhost:8080/"
        },
        "id": "kOQ5uuMFOAev",
        "outputId": "4e9b832e-da82-42ed-da84-8dfc6575ca15"
      },
      "execution_count": null,
      "outputs": [
        {
          "output_type": "stream",
          "name": "stdout",
          "text": [
            "File is closed automatically after the with  block.\n"
          ]
        }
      ]
    },
    {
      "cell_type": "markdown",
      "source": [
        "9. What is the difference between multithreading and multiprocessing ?    \n",
        "  - Multithreading :      \n",
        "  . Definition : Runs multiple threads within the same process.     \n",
        "  . Memory : Threads share the same memory space.   \n",
        "  . Performance : Good for I/O-bound tasks (like file reading, network calls) but not great for CPU-heavy work in Python because of the GIL(Global Interpreter Lock).     \n",
        "  . Overhead : Lightweight, faster to start.     \n",
        "  . Example Uses : Web scraping, reading files, network requests.     \n",
        "  Multiprocessing :        \n",
        "  . Definition : Runs multiple processes, each with its own Python interpreter and can run truly in parallel.    \n",
        "  . Overhead : Heavier than treads slower to start.     \n",
        "  . Example Uses : Image processing, machine learning computations, heavy data analysis.     \n",
        "  "
      ],
      "metadata": {
        "id": "CubYjV49_Qkq"
      }
    },
    {
      "cell_type": "code",
      "source": [
        "# Myltithreading\n",
        "\n",
        "import threading\n",
        "import time\n",
        "\n",
        "def task(name):\n",
        "  print(f\"{name} started\")\n",
        "  time.sleep(2)\n",
        "  print(f\"{name} finished\")\n",
        "\n",
        "t1 = threading.Thread(target = task, args =(\"Thread-1\",))\n",
        "t2 = threading.Thread(target = task, args =(\"Thread-2\",))\n",
        "\n",
        "t1.start()\n",
        "t2.start()\n",
        "\n",
        "t1.join()\n",
        "t2.join()\n",
        "\n",
        "print(\"All threads completed\")\n",
        "\n",
        "\n",
        "\n",
        "# Multiprocessing\n",
        "\n",
        "import multiprocessing\n",
        "import time\n",
        "\n",
        "def task(name):\n",
        "  print(f\"{name} started\")\n",
        "  time.sleep(2)\n",
        "  print(f\"{name} finished\")\n",
        "\n",
        "\n",
        "if __name__ == \"__main__\":\n",
        "  p1 = multiprocessing.Process(target = task, args=(\"Process-1\",))\n",
        "  p2 = multiprocessing.Process(target = task, args=(\"Process-2\",))\n",
        "\n",
        "  p1.start()\n",
        "  p2.start()\n",
        "\n",
        "  p1.join()\n",
        "  p2.join()\n",
        "\n",
        "  print(\"All processes completed\")"
      ],
      "metadata": {
        "colab": {
          "base_uri": "https://localhost:8080/"
        },
        "id": "cOqAfE1sH5EZ",
        "outputId": "efc9baa8-6d48-4b72-e6f6-db0588baf61d"
      },
      "execution_count": null,
      "outputs": [
        {
          "output_type": "stream",
          "name": "stdout",
          "text": [
            "Thread-1 started\n",
            "Thread-2 started\n",
            "Thread-1 finished\n",
            "Thread-2 finished\n",
            "All threads completed\n",
            "Process-1 started\n",
            "Process-2 started\n",
            "Process-1 finished\n",
            "Process-2 finished\n",
            "All processes completed\n"
          ]
        }
      ]
    },
    {
      "cell_type": "markdown",
      "source": [
        "10. What are the advantages of using logging in a program ?        \n",
        "  - . Better than print statements - Logging gives more control, allows setting levels(DEBUG, INFO, WARNING, ERROR, CRITICAL) instead of just printing everything.     \n",
        "  . Keeps records - You can save logs to a file for later debugging or auditing.      \n",
        "  . Easier debugging - Helps track what happened in the program without stopping it.     \n",
        "  . Customizable output - You can format logs with timestamps, file names, line numbers, etc.     \n",
        "  . Configurable levels - Easily switch between detailed logs during development and minimal logs in production.    \n",
        "  . Helps in troubleshooting - Makes it easier to identify and fix issues after deployment.    \n",
        "  "
      ],
      "metadata": {
        "id": "2Momw8WjDiAv"
      }
    },
    {
      "cell_type": "code",
      "source": [
        "import logging\n",
        "\n",
        "logging.basicConfig(\n",
        "    filename = \"app.log\",\n",
        "    level = logging.DEBUG,\n",
        "    format = \"%(asctime)s - % (levelname)s - % (message)s\", force = True\n",
        ")\n",
        "\n",
        "logging.debug(\"Debugging details here....\")\n",
        "logging.info(\"This is an info message\")\n",
        "logging.warning(\"something might be wrong\")\n",
        "logging.warning(\"Something might be wrong\")\n",
        "logging.error(\"An error occurred\")\n",
        "logging.critical(\"Critical issue! Immediate attention needed!\")\n",
        "\n",
        "print(\"Program is still running....\")"
      ],
      "metadata": {
        "id": "VmAngrqnIP_g"
      },
      "execution_count": null,
      "outputs": []
    },
    {
      "cell_type": "markdown",
      "source": [
        "11. What is memory management in Python ?       \n",
        "  - Memory Managment in Python is the process of allocating and releasing memory for objects during program execution.   \n",
        "  . Python has a private heap where all objects and data structures are stored.      \n",
        "  . The Python Memory Manager handles allocation/deallocation automatically.     \n",
        "  . It uses Garbage Collection (GC) to free memory of objects that are no longer referenced.    \n",
        "  . Reference Counting is the primary way Python keeeps track of whether an object is still in use.    \n",
        "  . You don't need to manually manage memory like in C/C++.    \n",
        "  . Garbage collector runs automatically but can be controlled via the gc module.     \n",
        "  "
      ],
      "metadata": {
        "id": "yOFnLLHFIjKW"
      }
    },
    {
      "cell_type": "code",
      "source": [
        "import sys\n",
        "\n",
        "a = [1,2,3]\n",
        "print(sys.getrefcount(a))\n",
        "\n",
        "b = a\n",
        "print(sys.getrefcount(a))\n",
        "\n"
      ],
      "metadata": {
        "colab": {
          "base_uri": "https://localhost:8080/"
        },
        "id": "tMsPlrwOHjrP",
        "outputId": "40f79c85-c1bb-4757-9a2e-7ec2c14673a2"
      },
      "execution_count": null,
      "outputs": [
        {
          "output_type": "stream",
          "name": "stdout",
          "text": [
            "2\n",
            "3\n"
          ]
        }
      ]
    },
    {
      "cell_type": "markdown",
      "source": [
        "12.  What are the basic steps involved in exception handling in Python ?     \n",
        "  - . Wrap risky code in try block - Code that might raise an error.    \n",
        "  . Catch the exception in except block - Handle the error without stopping the program.     \n",
        "  . (Optional)Use else block - Runs only if no exception occurs.    \n",
        "  . (Optional)Use finally block - Runs no matter what, often for cleanup.   \n",
        "  "
      ],
      "metadata": {
        "id": "s90yAs8DLDkM"
      }
    },
    {
      "cell_type": "code",
      "source": [
        "try:\n",
        "  num = int(input(\"Enter a number: \"))\n",
        "  print(10/num)\n",
        "except ZeroDivisionError:\n",
        "  print(\"you can't divide by zero !\")\n",
        "except ValueError:\n",
        "  print(\"Invalid input! Please ente a number.\")\n",
        "else:\n",
        "  print(\"No errors occurred.\")\n",
        "finally:\n",
        "  print(\"Execution finished.\")"
      ],
      "metadata": {
        "colab": {
          "base_uri": "https://localhost:8080/"
        },
        "id": "o_MksO0rH61i",
        "outputId": "bded385a-088d-421f-c96b-2472483c15fb"
      },
      "execution_count": null,
      "outputs": [
        {
          "output_type": "stream",
          "name": "stdout",
          "text": [
            "Enter a number: 32\n",
            "0.3125\n",
            "No errors occurred.\n",
            "Execution finished.\n"
          ]
        }
      ]
    },
    {
      "cell_type": "markdown",
      "source": [
        "13. Why is memory management important in Python ?     \n",
        "  - Memory management is important in Python because it ensures:  \n",
        "  . Efficient resource usage - Prevents wastage of RAM.     \n",
        "  . Avoids memory leaks - frees unused memory to keep programs fast.    \n",
        "  . Better performance - Smooth execution without slowing down.    \n",
        "  . Automatic cleanup - Python's garbage collector removes unrefernced objects.     \n",
        "  "
      ],
      "metadata": {
        "id": "QtcscB_rMzxZ"
      }
    },
    {
      "cell_type": "code",
      "source": [
        "a = [1,2,3]\n",
        "b = a\n",
        "del a\n"
      ],
      "metadata": {
        "id": "R41uLrAQGTsH"
      },
      "execution_count": null,
      "outputs": []
    },
    {
      "cell_type": "markdown",
      "source": [
        "14. What is the role of try and except in exception handling ?     \n",
        "  - In Python exception handling,    \n",
        "  . try block - Contains the code that might cause an exception.   \n",
        "  . except block - Handles the error if it occurs, prevention the program from crashing.   \n",
        "  "
      ],
      "metadata": {
        "id": "OrI1_tH3OOoY"
      }
    },
    {
      "cell_type": "code",
      "source": [
        "try:\n",
        "  num = int(\"abc\")\n",
        "except ValueError:\n",
        "  print(\"Invalid number!\")"
      ],
      "metadata": {
        "colab": {
          "base_uri": "https://localhost:8080/"
        },
        "id": "jCCFjyoZVuYj",
        "outputId": "a605a005-0f07-4771-959f-a5e9d65456ad"
      },
      "execution_count": null,
      "outputs": [
        {
          "output_type": "stream",
          "name": "stdout",
          "text": [
            "Invalid number!\n"
          ]
        }
      ]
    },
    {
      "cell_type": "markdown",
      "source": [
        "15. How does Python's garbage collection system work ?     \n",
        "  - Python's garbage collection system automatically frees memory by deleting objects that are no longer in use, so you don't have to manually manage memory.   \n",
        "  How it works :       \n",
        "  . Reference Counting :      \n",
        "  Python keeps track of how many references point to an object.     \n",
        "  When the count drops to Zero, the object is immediately destroyed.     \n",
        "  . Garbage Collector (GC) for Cyclic References :      \n",
        "  If two objects reference each other but are no longer used elsewhere, reference counting alone can't them up.     \n",
        "  . Python's gc module periodically scans and removes such cycles.     \n",
        "  "
      ],
      "metadata": {
        "id": "2FZL5pZsV4gf"
      }
    },
    {
      "cell_type": "code",
      "source": [
        "import gc\n",
        "\n",
        "class MyClass:\n",
        "  def __del__(self):\n",
        "    print(\"object destroyed\")\n",
        "\n",
        "obj = MyClass()\n",
        "obj = None\n",
        "\n",
        "gc.collect()"
      ],
      "metadata": {
        "colab": {
          "base_uri": "https://localhost:8080/"
        },
        "id": "5l7tGvf6XsNR",
        "outputId": "c9949a27-37c4-42a1-f7d3-4d7ba4d72b87"
      },
      "execution_count": null,
      "outputs": [
        {
          "output_type": "stream",
          "name": "stdout",
          "text": [
            "object destroyed\n"
          ]
        },
        {
          "output_type": "execute_result",
          "data": {
            "text/plain": [
              "16"
            ]
          },
          "metadata": {},
          "execution_count": 1
        }
      ]
    },
    {
      "cell_type": "markdown",
      "source": [
        "16. What is the purpose of the else block in exception handling ?      \n",
        "  - In Python's exception handling, the else block is used to define code that should run only if no exception occurs inside the try block.   \n",
        "  Purpose :      \n",
        "  .It helps separate the code that might throw an exception (try block) from the code that should only execute if everthing runs successfully.     \n",
        "  .Imporves readablility and structrue of exception - handling code.      \n"
      ],
      "metadata": {
        "id": "4SNB8XQcD10X"
      }
    },
    {
      "cell_type": "code",
      "source": [
        "try:\n",
        "  num = int(input(\"Enter a number: \"))\n",
        "except ValueError:\n",
        "  print(\"Invalid input! Please enter a number.\")\n",
        "else:\n",
        "  print(f\"Great! youentered {num}\")\n"
      ],
      "metadata": {
        "colab": {
          "base_uri": "https://localhost:8080/"
        },
        "id": "ffA__uNOFH7y",
        "outputId": "660d43a1-f91d-4e68-b0be-fc7fa531818d"
      },
      "execution_count": null,
      "outputs": [
        {
          "output_type": "stream",
          "name": "stdout",
          "text": [
            "Enter a number: sad\n",
            "Invalid input! Please enter a number.\n"
          ]
        }
      ]
    },
    {
      "cell_type": "markdown",
      "source": [
        "17. What are the common logging levels in Python ?      \n",
        "  - In Python's logging module, logging levels indicate the severity or importance of a log message.    \n",
        "  DEBUG :       \n",
        "  .Numeric Value : 10     \n",
        "  .Purpose : Detailed information for diagnosing problems during development.   \n",
        "  INFO :     \n",
        "  .Numberic Value : 20       \n",
        "  . Purpose : Used to confirm that things are working as expected.    \n",
        "  WARNING :      \n",
        "  . Numeric Value : 30      \n",
        "  . Purpose : Indicates something unexpected happened, but the program is still running.     \n",
        "  ERROR :        \n",
        "  . Numeric Value : 40     \n",
        "  . Purpose : A serious issue that prevented part of the program from working.    \n",
        "  CRITICAL :     \n",
        "  . Numeric Value : 50       \n",
        "  . Purpose : A sever e error that may stop the program completely.    \n",
        "  \n",
        "\n"
      ],
      "metadata": {
        "id": "Vs-uCxlmFtfh"
      }
    },
    {
      "cell_type": "code",
      "source": [
        "import logging\n",
        "logging.basicConfig(level=logging.DEBUG, force = True)\n",
        "\n",
        "logging.debug(\"This is a DEBUG message\")\n",
        "logging.info(\"This is an INFO message\")\n",
        "logging.warning(\"This is a WARNING message\")\n",
        "logging.error(\"This is an ERROR message\")\n",
        "logging.critical(\"This is a CRITICAL message\")"
      ],
      "metadata": {
        "colab": {
          "base_uri": "https://localhost:8080/"
        },
        "id": "2-kKlI2QIJ1f",
        "outputId": "eb7853c8-460e-4a9b-b53d-567f8640915c"
      },
      "execution_count": null,
      "outputs": [
        {
          "output_type": "stream",
          "name": "stderr",
          "text": [
            "DEBUG:root:This is a DEBUG message\n",
            "INFO:root:This is an INFO message\n",
            "WARNING:root:This is a WARNING message\n",
            "ERROR:root:This is an ERROR message\n",
            "CRITICAL:root:This is a CRITICAL message\n"
          ]
        }
      ]
    },
    {
      "cell_type": "markdown",
      "source": [
        "18. What is the difference between os.fork() and multiprocessing in Python ?     \n",
        "  - os.fork() :       \n",
        "  . Definition : Creates a new child process by duplicating the current process.      \n",
        "  . Platform : Works only on Unix/Linux/MacOS (not on Windows).      \n",
        "  . Control : Low-level -- you manually handle process IDs, synchronization, and communication.      \n",
        "  . Communication : You must use pipes, sockets, or shared memory manually.     \n",
        "  . Use Case : Good for simple process spawning when you want full conrol at the OS level.     \n",
        "  multiprocessing :      \n",
        "  . Definition : A Python module that allows you to create an manage separate pocesses easily.     \n",
        "  . Platform : Works on both windows and Unix.      \n",
        "  . Control : High-Level -- handles process creation, communication, and synchronization for you.     \n",
        "  . Communication : Built-in Queue, Pipe, and Manager for sharing data.    \n",
        "  . Use Case : Recommended for cross-platform, parallel execution in Python.      \n",
        "  In short :     \n",
        "  . os.fork() = Low-Level, Unix-only, manual handling.    \n",
        "  . multiprocessing = High-Level, cross-platform, built-in tools for communication.    \n"
      ],
      "metadata": {
        "id": "i6SScBbCIz0b"
      }
    },
    {
      "cell_type": "code",
      "source": [
        "# os.fork()\n",
        "\n",
        "import os\n",
        "pid = os.fork()\n",
        "\n",
        "if pid == 0:\n",
        "  print(\"Child process\")\n",
        "else:\n",
        "  print(\"Parent process\")\n",
        "\n",
        "\n",
        "# multiprocessing\n",
        "\n",
        "from multiprocessing import Process\n",
        "\n",
        "def worker():\n",
        "  print(\"Worker process\")\n",
        "\n",
        "if __name__== \"__main__\":\n",
        "  p = Process(target = worker)\n",
        "  p.start()\n",
        "  p.join()"
      ],
      "metadata": {
        "colab": {
          "base_uri": "https://localhost:8080/"
        },
        "id": "RJDGh-meLtVk",
        "outputId": "060b870f-94fc-4332-9f3d-68a57321290c"
      },
      "execution_count": null,
      "outputs": [
        {
          "output_type": "stream",
          "name": "stdout",
          "text": [
            "Parent process\n",
            "Child process\n",
            "Worker process\n"
          ]
        }
      ]
    },
    {
      "cell_type": "markdown",
      "source": [
        "19. What is the importance of closing a file in Python ?      \n",
        "  - Importance of Closing a File in Python :        \n",
        "  When you work with files in Python (using open()), the file stays open in memory until you close it.    \n",
        "  Closing a file is important because :    \n",
        "  Frees System Resources :       \n",
        "  . Every open file consumes system resources(like file descriptors).     \n",
        "  . Closing releases these resources for other programs to use.     \n",
        "  Ensures Data is Written to Disk :    \n",
        "  . Data you write to a file may be temporarily stored in buffer (RAM).    \n",
        "  . close() flushes the buffer so all data is saved to the file.      \n",
        "  Prevents File Corruption :      \n",
        "  . If a file isn't closed properly, it can result in incomplete writes or corrupted data.     \n",
        "  Allows Other Programs to Access the File :      \n",
        "  . Some operating systems lock a file while it's open.     \n",
        "  . Closing removes the lock, allowing other processes to read/write it.    \n"
      ],
      "metadata": {
        "id": "RDLL207CMpMj"
      }
    },
    {
      "cell_type": "code",
      "source": [
        "# Without closing\n",
        "\n",
        "f = open(\"data.txt\", \"w\")\n",
        "f.write(\"Hello, world\")\n",
        "\n",
        "\n",
        "# with closing\n",
        "\n",
        "f = open(\"data.txt\",\"w\")\n",
        "f.write(\"Hello, world !\")\n",
        "f.close()\n",
        "\n",
        "# using with (auto close):\n",
        "\n",
        "with open(\"data.txt\", \"w\") as f:\n",
        "  f.write(\"Hello, world!!\")"
      ],
      "metadata": {
        "id": "rh4xj_j6WE_m"
      },
      "execution_count": null,
      "outputs": []
    },
    {
      "cell_type": "markdown",
      "source": [
        "20. What is the difference between file.read() and file.readline() in Python ?       \n",
        "  - 1. file.read() :     \n",
        "  Read the entire file(or a specified number of characters)\n",
        "  as single string.    \n",
        "  2. file.readline() :      \n",
        "  Reads only one line from the file at a time.       \n"
      ],
      "metadata": {
        "id": "tcXG7acIW-36"
      }
    },
    {
      "cell_type": "code",
      "source": [
        "# file.read()\n",
        "\n",
        "f = open(\"test.txt\", \"r\")\n",
        "content = f.read()  # Reads whole file\n",
        "f.close()\n",
        "\n"
      ],
      "metadata": {
        "colab": {
          "base_uri": "https://localhost:8080/"
        },
        "id": "03lBHjWvXwDX",
        "outputId": "78a84128-0534-456f-bd17-d9f097a61057"
      },
      "execution_count": null,
      "outputs": [
        {
          "output_type": "stream",
          "name": "stdout",
          "text": [
            "23\n"
          ]
        }
      ]
    },
    {
      "cell_type": "code",
      "source": [
        "f = open(\"test.txt\", \"r\")\n",
        "line = f.readline()\n",
        "f.close()\n",
        "\n"
      ],
      "metadata": {
        "colab": {
          "base_uri": "https://localhost:8080/"
        },
        "id": "Mo4sU0PPYjg9",
        "outputId": "a67d57a6-47ca-487d-b93d-59af7b8c667f"
      },
      "execution_count": null,
      "outputs": [
        {
          "output_type": "stream",
          "name": "stdout",
          "text": [
            " \n"
          ]
        }
      ]
    },
    {
      "cell_type": "markdown",
      "source": [
        "21. What is the logging module in Python used for ?      \n",
        "  - The logging module in Python is used to record (log) messages about a program's execution, such as errors, warnings, or informational events, for debugging and monitoring.    \n",
        "  "
      ],
      "metadata": {
        "id": "maaE9xkWY7zV"
      }
    },
    {
      "cell_type": "code",
      "source": [
        "import logging\n",
        "\n",
        "logging.basicConfig(level=logging.INFO)\n",
        "logging.info(\"This is an info message\")\n",
        "logging.warning(\"This is a warning\")"
      ],
      "metadata": {
        "colab": {
          "base_uri": "https://localhost:8080/"
        },
        "id": "m-DflnhNaBl5",
        "outputId": "c616add4-0caf-42d4-e298-552d28e9d47b"
      },
      "execution_count": null,
      "outputs": [
        {
          "output_type": "stream",
          "name": "stderr",
          "text": [
            "INFO:root:This is an info message\n",
            "WARNING:root:This is a warning\n"
          ]
        }
      ]
    },
    {
      "cell_type": "markdown",
      "source": [
        "22. What is the os module in Python used for in file handling ?       \n",
        "  - The os module in Python is used for interacting with the operating system, and in file handling it helps with tasks like creating, deleting, renaming, and navigating files or directories.   \n",
        "  "
      ],
      "metadata": {
        "id": "dq5Kua9kaTQ1"
      }
    },
    {
      "cell_type": "code",
      "source": [
        "import os\n",
        "\n",
        "os.mkdir(\"new_folder\")\n",
        "\n",
        "os.rename(\"old.txt\", \"new.txt\")\n",
        "\n",
        "os.remove(\"new.txt\")\n"
      ],
      "metadata": {
        "colab": {
          "base_uri": "https://localhost:8080/"
        },
        "id": "qboafIa_a_ZS",
        "outputId": "c0bdfaa8-046a-47ee-a3b1-7927885b253e"
      },
      "execution_count": null,
      "outputs": [
        {
          "output_type": "stream",
          "name": "stdout",
          "text": [
            " \n"
          ]
        }
      ]
    },
    {
      "cell_type": "markdown",
      "source": [
        "23. What are the challenges associated with memory management in Python ?     \n",
        "  - Here are the main challenges with memory management in Python :      \n",
        "  . Reference Cycles :      \n",
        "  Circular references (objects referring to each other) can prevent garbage collection and waste memory.    \n",
        "  . Memory Leaks :     \n",
        "  Improper handling of objects(e.g., holding unnecessary reverences) can cause memory usage to grow over time.   \n",
        "  . High Memory Usage :     \n",
        "  Python's dynamic typing and object overhead make it use more memory compared to low-level languages.     \n",
        "  . Fragmentation :       \n",
        "  Frequent allocation and deallocation can fragment memory, reducing efficiency.     \n",
        "  . Large Data Handling :     \n",
        "  Storing large datasets in memory without optimization can cause performance issues.     \n",
        "  "
      ],
      "metadata": {
        "id": "9AvfnX0HbjWT"
      }
    },
    {
      "cell_type": "code",
      "source": [
        "class A:\n",
        "  def __init__(self):\n",
        "    self.ref = None\n",
        "\n",
        "obj1 = A()\n",
        "obj2 = A()\n",
        "obj1.ref = obj2\n",
        "obj2.ref = obj1\n",
        "\n",
        "obj1\n",
        "obj2"
      ],
      "metadata": {
        "colab": {
          "base_uri": "https://localhost:8080/"
        },
        "id": "KISGYKMqdhL_",
        "outputId": "7d346bf7-8719-4596-9d05-3da7f47d3936"
      },
      "execution_count": null,
      "outputs": [
        {
          "output_type": "execute_result",
          "data": {
            "text/plain": [
              "<__main__.A at 0x7bb0cb76abd0>"
            ]
          },
          "metadata": {},
          "execution_count": 52
        }
      ]
    },
    {
      "cell_type": "markdown",
      "source": [
        "24. How do you raise an exception manually in Python ?      \n",
        "  - You can raise an exception manually in Python using the raise keyword, followed by the exception type.    \n",
        "  Explanation :    \n",
        "  . raise tells Python to stop execution and throw the specified error.     \n",
        "  . You can use built-in exceptions (like ValueError, TypeError) or create custom exceptions.    \n",
        "  "
      ],
      "metadata": {
        "id": "TWeoo3j-d5Fj"
      }
    },
    {
      "cell_type": "code",
      "source": [
        "raise ExceptionType(\"Custom error message\")\n"
      ],
      "metadata": {
        "colab": {
          "base_uri": "https://localhost:8080/"
        },
        "id": "v7SultimdfYv",
        "outputId": "249d5554-073c-4ae3-923d-8a4b2ec22d61"
      },
      "execution_count": null,
      "outputs": [
        {
          "output_type": "stream",
          "name": "stdout",
          "text": [
            " \n"
          ]
        }
      ]
    },
    {
      "cell_type": "code",
      "source": [
        "value = -5\n",
        "if value< 0:\n",
        "  raise ValueError(\"Value cannot be negative\")"
      ],
      "metadata": {
        "id": "GlzQ_f9vfLy7"
      },
      "execution_count": null,
      "outputs": []
    },
    {
      "cell_type": "markdown",
      "source": [
        "25. Why is it important to use multithreading in certain applications ?     \n",
        "  - Multithreading allows multiple threads to run within the same program at the same time, improving speed for I/O-bound tasks and keeping applications responsive.      \n",
        "  Uses :     \n",
        "  . Run tasks in parallel    \n",
        "  . Handle I/O operations faster     \n",
        "  . Keep GUIs responsive      \n",
        "  "
      ],
      "metadata": {
        "id": "kXjVgrKefYA-"
      }
    },
    {
      "cell_type": "code",
      "source": [
        "import threading, time\n",
        "\n",
        "def task(name):\n",
        "  time.sleep(2)\n",
        "  print(name, \"done\")\n",
        "\n",
        "t1 = threading.Thread(target = task, args= (\"Task 1\",))\n",
        "t2 = threading.Thread(target = task, args= (\"Task 2\",))\n",
        "\n",
        "t1.start(); t2.start()\n",
        "t1.join(); t2.join()"
      ],
      "metadata": {
        "colab": {
          "base_uri": "https://localhost:8080/"
        },
        "id": "B1kL2cI_kN6j",
        "outputId": "20e0f0b5-bb16-459e-faa3-3bd5304ec2fd"
      },
      "execution_count": null,
      "outputs": [
        {
          "output_type": "stream",
          "name": "stdout",
          "text": [
            "Task 1 done\n",
            "Task 2 done\n"
          ]
        }
      ]
    },
    {
      "cell_type": "markdown",
      "source": [
        "# Practical Questions         \n",
        "\n",
        "1. How can you open a file for writing in Python and write a string to it ?      \n",
        "  "
      ],
      "metadata": {
        "id": "swKP8SeLlJGe"
      }
    },
    {
      "cell_type": "code",
      "source": [
        "with open(\"example.txt\", \"w\") as file:\n",
        "  file.write(\"Hello, this is a test string.\")"
      ],
      "metadata": {
        "id": "uY9IXNAKlaOW"
      },
      "execution_count": null,
      "outputs": []
    },
    {
      "cell_type": "markdown",
      "source": [
        "2. Write a Python program to read the contents of a file and print each line.      \n",
        "  "
      ],
      "metadata": {
        "id": "bwiyoUzmckVR"
      }
    },
    {
      "cell_type": "code",
      "source": [
        "# Create a file with sample content\n",
        "with open(\"example.txt\", \"w\") as file:\n",
        "    file.write(\"Hello World\\nPython File Handling\\nLine 3\")\n",
        "\n",
        "# Now read it\n",
        "with open(\"example.txt\", \"r\") as file:\n",
        "    for line in file:\n",
        "        print(line.strip())\n"
      ],
      "metadata": {
        "colab": {
          "base_uri": "https://localhost:8080/"
        },
        "id": "_rp9niK5c2wt",
        "outputId": "df9b56e6-a781-44b9-d26d-3f06f1ae4414"
      },
      "execution_count": 2,
      "outputs": [
        {
          "output_type": "stream",
          "name": "stdout",
          "text": [
            "Hello World\n",
            "Python File Handling\n",
            "Line 3\n"
          ]
        }
      ]
    },
    {
      "cell_type": "markdown",
      "source": [
        "3. How would you handle a case where the file doesn't exist while trying to open it for reading ?      \n",
        "  "
      ],
      "metadata": {
        "id": "JWxP4iZrdhRW"
      }
    },
    {
      "cell_type": "code",
      "source": [
        "try:\n",
        "    with open(\"example.txt\", \"r\") as file:\n",
        "        for line in file:\n",
        "            print(line.strip())\n",
        "except FileNotFoundError:\n",
        "    print(\"Error: The file does not exist. Please check the file name or path.\")\n"
      ],
      "metadata": {
        "colab": {
          "base_uri": "https://localhost:8080/"
        },
        "id": "bDa9N9DHdzYf",
        "outputId": "27af3378-fa63-468a-d40f-d3642485e877"
      },
      "execution_count": 6,
      "outputs": [
        {
          "output_type": "stream",
          "name": "stdout",
          "text": [
            "Error: The file does not exist. Please check the file name or path.\n"
          ]
        }
      ]
    },
    {
      "cell_type": "markdown",
      "source": [
        "4.  Write a Python script that reads from one file and writes its content to another file.       \n"
      ],
      "metadata": {
        "id": "m1lREXJ4ej6T"
      }
    },
    {
      "cell_type": "code",
      "source": [
        "try:\n",
        "  with open(\"source.txt\", \"r\") as source_file:\n",
        "    content = source_file.read()\n",
        "\n",
        "  with open(\"destination.txt\", \"w\") as dest_file:\n",
        "    dest_file.write(content)\n",
        "\n",
        "  print(\"File copied successfully\")\n",
        "\n",
        "except FileNotFoundError:\n",
        "  print(\"Error: The source file does not exist.\")"
      ],
      "metadata": {
        "colab": {
          "base_uri": "https://localhost:8080/"
        },
        "id": "WPqFayBUfJb6",
        "outputId": "7710f396-2b63-45a6-f3b2-49f72409aa67"
      },
      "execution_count": 7,
      "outputs": [
        {
          "output_type": "stream",
          "name": "stdout",
          "text": [
            "Error: The source file does not exist.\n"
          ]
        }
      ]
    },
    {
      "cell_type": "markdown",
      "source": [
        "5. How would you catch and handle division by zero error in Python ?       \n"
      ],
      "metadata": {
        "id": "Ng-lXY0MiSwT"
      }
    },
    {
      "cell_type": "code",
      "source": [
        "try:\n",
        "  num = 10\n",
        "  den = 0\n",
        "  result = num / den\n",
        "except ZeroDivisionError:\n",
        "  print(\"Error: Division by zero is not allowed.\")\n",
        ""
      ],
      "metadata": {
        "colab": {
          "base_uri": "https://localhost:8080/"
        },
        "id": "hSxDqga4iuH7",
        "outputId": "5f795a7a-9823-42b5-b238-4959e775720a"
      },
      "execution_count": 8,
      "outputs": [
        {
          "output_type": "stream",
          "name": "stdout",
          "text": [
            "Error: Division by zero is not allowed.\n"
          ]
        }
      ]
    },
    {
      "cell_type": "markdown",
      "source": [
        "6. Write a Python program that logs an error message to a log file when a division by zero exception occurs.   "
      ],
      "metadata": {
        "id": "g9CW4CFRjE8n"
      }
    },
    {
      "cell_type": "code",
      "source": [
        "import logging\n",
        "\n",
        "logging.basicConfig(\n",
        "    filename = \"error.log.txt\",\n",
        "    level = logging.ERROR,\n",
        "    format = \"%(asctime)s - %(levelname)s - % (message)s\"\n",
        ")\n",
        "\n",
        "try:\n",
        "  num = 10\n",
        "  den = 0\n",
        "  result = num / den\n",
        "except ZeroDivisionError:\n",
        "  logging.error(\"Division by zero attempted!\")\n",
        "  print(\"An error occurred. Check the log file details.\")"
      ],
      "metadata": {
        "colab": {
          "base_uri": "https://localhost:8080/"
        },
        "id": "o1hh61jwjlLL",
        "outputId": "6c9421ee-dd24-4050-a12e-ad2066a46dbe"
      },
      "execution_count": 9,
      "outputs": [
        {
          "output_type": "stream",
          "name": "stderr",
          "text": [
            "ERROR:root:Division by zero attempted!\n"
          ]
        },
        {
          "output_type": "stream",
          "name": "stdout",
          "text": [
            "An error occurred. Check the log file details.\n"
          ]
        }
      ]
    },
    {
      "cell_type": "markdown",
      "source": [
        "7. How do you log information at different levels (INFO, ERROR, WARNING) in Python using the logging module ?     "
      ],
      "metadata": {
        "id": "lpSqtoookVQw"
      }
    },
    {
      "cell_type": "code",
      "source": [
        "import logging\n",
        "\n",
        "logging.basicConfig(\n",
        "    filename = \"app.log\",\n",
        "    level = logging.DEBUG,\n",
        "    format = \"%(asctime)s - %(levelname)s - %(message)s\"\n",
        ")\n",
        "\n",
        "logging.debug(\"This is a DEBUG message.\")\n",
        "logging.info(\"This is an INFO message.\")\n",
        "logging.warning(\"This is a WARNING message.\")\n",
        "logging.error(\"This is an ERROR message.\")\n",
        "logging.critical(\"This is a CRITICAL message.\")"
      ],
      "metadata": {
        "colab": {
          "base_uri": "https://localhost:8080/"
        },
        "id": "clNcXwWJkwV3",
        "outputId": "27dcdaf9-07e6-4223-e96f-5b151577e106"
      },
      "execution_count": 10,
      "outputs": [
        {
          "output_type": "stream",
          "name": "stderr",
          "text": [
            "WARNING:root:This is a WARNING message.\n",
            "ERROR:root:This is an ERROR message.\n",
            "CRITICAL:root:This is a CRITICAL message.\n"
          ]
        }
      ]
    },
    {
      "cell_type": "markdown",
      "source": [
        "8. Write a program to handle a file opening error using exception handling."
      ],
      "metadata": {
        "id": "2k3Nuklilrvl"
      }
    },
    {
      "cell_type": "code",
      "source": [
        "try:\n",
        "  file = open(\"example.txt\", \"r\")\n",
        "  comtent = file.read()\n",
        "  print(content)\n",
        "  file.close()\n",
        "\n",
        "except FileNotFoundError:\n",
        "  print(\"Error: File not found.\")\n",
        "\n",
        "except PermissionError:\n",
        "  print(\"Error: You do not have permission to open this file.\")\n",
        "\n",
        "except Exception as e:\n",
        "  print(f\"An unexpected error occurred: {e}\")"
      ],
      "metadata": {
        "colab": {
          "base_uri": "https://localhost:8080/"
        },
        "id": "4vVuNcZBnzSk",
        "outputId": "838564bb-2fa7-4bae-a551-0a5c8da256de"
      },
      "execution_count": 11,
      "outputs": [
        {
          "output_type": "stream",
          "name": "stdout",
          "text": [
            "Error: File not found.\n"
          ]
        }
      ]
    },
    {
      "cell_type": "markdown",
      "source": [
        "9.  How can you read a file line by line and store its content in a list in Python ?   "
      ],
      "metadata": {
        "id": "TrZClqAooZiW"
      }
    },
    {
      "cell_type": "code",
      "source": [
        "# Example using readlines()\n",
        "\n",
        "try:\n",
        "  with open(\"example.txt\", \"r\") as file:\n",
        "    lines = file.readlines()\n",
        "    print(line)\n",
        "\n",
        "except FileNotFoundError:\n",
        "  print(\"Error: File not found.\")\n",
        "\n",
        "\n",
        "# Example using a loop\n",
        "\n",
        "try:\n",
        "  lines = []\n",
        "  with open(\"example.txt\", \"r\") as file:\n",
        "    for line in file:\n",
        "      lines.append(line.strp())\n",
        "  print(lines)\n",
        "\n",
        "except FileNotFoundError:\n",
        "  print(\"Error: File not found.\")\n"
      ],
      "metadata": {
        "colab": {
          "base_uri": "https://localhost:8080/"
        },
        "id": "6Ofca1wqpHO9",
        "outputId": "c0a7ce5e-323b-4735-9cb7-08d4a81815ef"
      },
      "execution_count": 13,
      "outputs": [
        {
          "output_type": "stream",
          "name": "stdout",
          "text": [
            "Error: File not found.\n",
            "Error: File not found.\n"
          ]
        }
      ]
    },
    {
      "cell_type": "markdown",
      "source": [
        "10.  How can you append data to an existing file in Python ?  "
      ],
      "metadata": {
        "id": "anotpV-tow5Q"
      }
    },
    {
      "cell_type": "code",
      "source": [
        "try:\n",
        "  with open(\"example.txt\", \"a\") as file:\n",
        "    file.write(\"\\nThis is a new line of text.\")\n",
        "  print(\"Data appended successfully.\")\n",
        "\n",
        "except FileNotFoundError:\n",
        "  print(\"Error: File not found.\")\n",
        ""
      ],
      "metadata": {
        "colab": {
          "base_uri": "https://localhost:8080/"
        },
        "id": "7jzeAcO5rMXb",
        "outputId": "08a1903c-ddc1-4a21-cbda-766a63aa046c"
      },
      "execution_count": 14,
      "outputs": [
        {
          "output_type": "stream",
          "name": "stdout",
          "text": [
            "Data appended successfully.\n"
          ]
        }
      ]
    },
    {
      "cell_type": "markdown",
      "source": [
        "11. Write a Python program that uses a try-except block to handle an error when attempting to access a\n",
        "dictionary key that doesn't exist."
      ],
      "metadata": {
        "id": "4gBX9ccMKwEC"
      }
    },
    {
      "cell_type": "code",
      "source": [
        "# Dictionary\n",
        "my_dict = {\"name\": \"Ajay\", \"age\": 25}\n",
        "\n",
        "try:\n",
        "    # Trying to access a non-existing key\n",
        "    value = my_dict[\"city\"]\n",
        "    print(\"City:\", value)\n",
        "\n",
        "except KeyError:\n",
        "    print(\"Error: The key 'city' does not exist in the dictionary.\")\n"
      ],
      "metadata": {
        "colab": {
          "base_uri": "https://localhost:8080/"
        },
        "id": "g3Ba2AO7LfqI",
        "outputId": "0c945480-8be5-48d4-a98b-2537b4ce3e1c"
      },
      "execution_count": 4,
      "outputs": [
        {
          "output_type": "stream",
          "name": "stdout",
          "text": [
            "Error: The key 'city' does not exist in the dictionary.\n"
          ]
        }
      ]
    },
    {
      "cell_type": "markdown",
      "source": [
        "12.  Write a program that demonstrates using multiple except blocks to handle different types of exceptions."
      ],
      "metadata": {
        "id": "V3oklxJAMUYN"
      }
    },
    {
      "cell_type": "code",
      "source": [
        "try:\n",
        "  num = int(input(\"Enter a number: \"))\n",
        "  result = 10/num\n",
        "\n",
        "  my_list = [1,2,3]\n",
        "  print(\"list item: \", my_list[5])\n",
        "\n",
        "  with open (\"non_existing_file.txt\", \"r\") as file:\n",
        "    data = file.read()\n",
        "\n",
        "except ZeroDivisionError:\n",
        "  print(\"Error: you cannot divide by zero.\")\n",
        "except IndexError:\n",
        "  print(\"Error: List index out of range.\")\n",
        "\n",
        "except FileNotFoundError:\n",
        "  print(\"Error: File not found.\")\n",
        "except Exception as e:\n",
        "  print(\"An unexpected error occurred:\", e)"
      ],
      "metadata": {
        "colab": {
          "base_uri": "https://localhost:8080/"
        },
        "id": "HUrPmORCM1AS",
        "outputId": "cfd916f2-8d99-448b-ccbb-6969623f103b"
      },
      "execution_count": 6,
      "outputs": [
        {
          "output_type": "stream",
          "name": "stdout",
          "text": [
            "Enter a number: sd\n",
            "An unexpected error occurred: invalid literal for int() with base 10: 'sd'\n"
          ]
        }
      ]
    },
    {
      "cell_type": "markdown",
      "source": [
        "13.  How would you check if a file exists before attempting to read it in Python ?  "
      ],
      "metadata": {
        "id": "nGBFO9A6Ttse"
      }
    },
    {
      "cell_type": "code",
      "source": [
        "import os\n",
        "\n",
        "file_path = \"example.txt\"\n",
        "if os.path.exists(file_path):\n",
        "  with open(file_path, \"r\") as file:\n",
        "    content = file.read()\n",
        "    print(content)\n",
        "else:\n",
        "  print(f\"Error: The file {file_path} does not exist.\")"
      ],
      "metadata": {
        "colab": {
          "base_uri": "https://localhost:8080/"
        },
        "id": "QEJC5w7XY8Ys",
        "outputId": "58290fab-448e-4b42-8b94-eb0d5bb5798a"
      },
      "execution_count": 7,
      "outputs": [
        {
          "output_type": "stream",
          "name": "stdout",
          "text": [
            "Error: The file example.txt does not exist.\n"
          ]
        }
      ]
    },
    {
      "cell_type": "markdown",
      "source": [
        "14.  Write a program that uses the logging module to log both informational and error messages."
      ],
      "metadata": {
        "id": "wvCv0YOPY71x"
      }
    },
    {
      "cell_type": "code",
      "source": [
        "import logging\n",
        "\n",
        "logging.basicConfig(\n",
        "    filename=\"app.log\",\n",
        "    level=logging.DEBUG,\n",
        "    format=\"%(asctime)s - %(levelname)s - %(message)s\"\n",
        ")\n",
        "\n",
        "logging.info(\"Applocation started successfully.\")\n",
        "\n",
        "try:\n",
        "  num1 = 10\n",
        "  num2 = 0\n",
        "  result = num1 / num2\n",
        "except ZeroDivisionError:\n",
        "  logging.error(\"Division by zero error occurred.\")\n",
        "logging.info(\"Application finished execution.\")"
      ],
      "metadata": {
        "colab": {
          "base_uri": "https://localhost:8080/"
        },
        "id": "1uamRLZcaRL3",
        "outputId": "6f0917c5-1ba8-4314-954c-af62476e46ee"
      },
      "execution_count": 8,
      "outputs": [
        {
          "output_type": "stream",
          "name": "stderr",
          "text": [
            "ERROR:root:Division by zero error occurred.\n"
          ]
        }
      ]
    },
    {
      "cell_type": "markdown",
      "source": [
        "15.  Write a Python program that prints the content of a file and handles the case when the file is empty."
      ],
      "metadata": {
        "id": "-ire3V6IbT9N"
      }
    },
    {
      "cell_type": "code",
      "source": [
        "def read_file(filename):\n",
        "  try:\n",
        "    with open(filename, \"r\") as file:\n",
        "      content = file.read()\n",
        "\n",
        "      if content.strip() == \"\":\n",
        "        print(\"The file is empty.\")\n",
        "      else:\n",
        "        print(\"File content:\")\n",
        "        print(content)\n",
        "\n",
        "  except FileNotFoundError:\n",
        "    print(f\" Error: The file {filename} does not exist.\")\n",
        "read_file(\"example.txt\")"
      ],
      "metadata": {
        "colab": {
          "base_uri": "https://localhost:8080/"
        },
        "id": "BPu9sYV4bgt-",
        "outputId": "50080092-ce86-421d-d73a-aab7e2c9423d"
      },
      "execution_count": 11,
      "outputs": [
        {
          "output_type": "stream",
          "name": "stdout",
          "text": [
            " Error: The file example.txt does not exist.\n"
          ]
        }
      ]
    },
    {
      "cell_type": "markdown",
      "source": [
        "16. Demonstrate how to use memory profiling to check the memory usage of a small program."
      ],
      "metadata": {
        "id": "RxxKxb-YcoC0"
      }
    },
    {
      "cell_type": "code",
      "source": [
        "from memory_profiler import profile\n",
        "\n",
        "@profile\n",
        "\n",
        "def create_list():\n",
        "  my_list = [i for i in range(1_000_000)]\n",
        "  print(\"List created with length:\", len(my_list))\n",
        "  return my_list\n",
        "\n",
        "if __name__ == \"__main__\":\n",
        "  create_list()"
      ],
      "metadata": {
        "colab": {
          "base_uri": "https://localhost:8080/"
        },
        "id": "9EPhjLS3ckk6",
        "outputId": "344c5fde-aa68-4609-ba68-99fd9f2058a0"
      },
      "execution_count": 13,
      "outputs": [
        {
          "output_type": "stream",
          "name": "stdout",
          "text": [
            "ERROR: Could not find file /tmp/ipython-input-3691352850.py\n",
            "List created with length: 1000000\n"
          ]
        }
      ]
    },
    {
      "cell_type": "markdown",
      "source": [
        "17.  Write a Python program to create and write a list of numbers to a file, one number per line."
      ],
      "metadata": {
        "id": "2nLVVDJXe7ZU"
      }
    },
    {
      "cell_type": "code",
      "source": [
        "number = [10,20,30,40,50]\n",
        "\n",
        "with open(\"number.txt\", \"w\") as file:\n",
        "  for num in number:\n",
        "    file.write(str(num)+ \"\\n\")\n",
        "print(\"Numbers have been written to numbers.txt\")"
      ],
      "metadata": {
        "colab": {
          "base_uri": "https://localhost:8080/"
        },
        "id": "m3jWkPdfe2lN",
        "outputId": "509e5de6-f0b7-4131-c0e8-d3748cfbd16f"
      },
      "execution_count": 17,
      "outputs": [
        {
          "output_type": "stream",
          "name": "stdout",
          "text": [
            "Numbers have been written to numbers.txt\n"
          ]
        }
      ]
    },
    {
      "cell_type": "markdown",
      "source": [
        "18. How would you implement a basic logging setup that logs to a file with rotation after 1MB ?"
      ],
      "metadata": {
        "id": "pIRTRphVgReP"
      }
    },
    {
      "cell_type": "code",
      "source": [
        "import logging\n",
        "from logging.handlers import RotatingFileHandler\n",
        "\n",
        "handler = RotatingFileHandler(\n",
        "    \"app.log\",\n",
        "    maxBytes = 1_000_00,\n",
        "    backupCount = 3\n",
        ")\n",
        "\n",
        "logger = logging.getLogger()\n",
        "logger.setLevel(logging.INFO)\n",
        "logger.addHandler(handler)\n",
        "\n",
        "for i in range(10000):\n",
        "  logger.info(f\"Log entry {i}\")"
      ],
      "metadata": {
        "id": "1oBryP2egc2T"
      },
      "execution_count": 18,
      "outputs": []
    },
    {
      "cell_type": "markdown",
      "source": [
        "19. Write a program that handles both IndexError and KeyError using a try-except block."
      ],
      "metadata": {
        "id": "6QQyhzFKilAd"
      }
    },
    {
      "cell_type": "code",
      "source": [
        "my_list = [10,20,30]\n",
        "my_dict = {\"name\": \"Ajay\", \"age\": 25}\n",
        "\n",
        "try:\n",
        "  print(my_list[5])\n",
        "\n",
        "  print(my_dict[\"salary\"])\n",
        "except IndexError:\n",
        "  print(\"Error: List index is out of range!\")\n",
        "except KeyError:\n",
        "  print(\"Error: Dictionary key not found!\")"
      ],
      "metadata": {
        "colab": {
          "base_uri": "https://localhost:8080/"
        },
        "id": "ReZBvGubiz7G",
        "outputId": "e5bbf50a-8b47-4f65-baa2-669105aef8c4"
      },
      "execution_count": 19,
      "outputs": [
        {
          "output_type": "stream",
          "name": "stdout",
          "text": [
            "Error: List index is out of range!\n"
          ]
        }
      ]
    },
    {
      "cell_type": "markdown",
      "source": [
        "20.  How would you open a file and read its contents using a context manager in Python ?"
      ],
      "metadata": {
        "id": "3XlgDo3vkVc5"
      }
    },
    {
      "cell_type": "code",
      "source": [
        "# Open and read a file using a context manager\n",
        "file_path = \"example.txt\"\n",
        "\n",
        "with open(file_path, \"r\") as file:\n",
        "    contents = file.read()\n",
        "\n",
        "print(contents)\n"
      ],
      "metadata": {
        "id": "hmuj3BZEWaFv"
      },
      "execution_count": 2,
      "outputs": []
    },
    {
      "cell_type": "markdown",
      "source": [
        "21. Write a Python program that reads a file and prints the number of occurrences of a specific word."
      ],
      "metadata": {
        "id": "5YseFiTgWzZm"
      }
    },
    {
      "cell_type": "code",
      "source": [
        "file_path = \"example.txt\"\n",
        "word_to_count = \"Python\"\n",
        "\n",
        "try:\n",
        "  with open(file_path, \"r\") as file:\n",
        "    contents = file.read().lower()\n",
        "\n",
        "  count = contents.split().count(word_to_count.lower())\n",
        "  print(f\"The word {word_to_count} occurs {count} times in the file.\")\n",
        "except FileNotFoundError:\n",
        "  print(f\"Error: The file {file_path} was not found.\")"
      ],
      "metadata": {
        "colab": {
          "base_uri": "https://localhost:8080/"
        },
        "id": "bkYrImjeW8Q1",
        "outputId": "ada3fec3-1bf9-4d3e-9f0d-0923b3ec0b50"
      },
      "execution_count": 3,
      "outputs": [
        {
          "output_type": "stream",
          "name": "stdout",
          "text": [
            "Error: The file example.txt was not found.\n"
          ]
        }
      ]
    },
    {
      "cell_type": "markdown",
      "source": [
        "22.  How can you check if a file is empty before attempting to read its contents ?"
      ],
      "metadata": {
        "id": "nIrAayxyaE5P"
      }
    },
    {
      "cell_type": "code",
      "source": [
        "import os\n",
        "\n",
        "file_path = \"example.txt\"\n",
        "\n",
        "if os.path.exists(file_path):\n",
        "  if os.path.getsize(file_path) == 0:\n",
        "    print(\"The file is empty.\")\n",
        "  else:\n",
        "    with open(file_path, \"r\") as file:\n",
        "      print(file.read())\n",
        "else:\n",
        "  print(\"The file does not exist.\")"
      ],
      "metadata": {
        "colab": {
          "base_uri": "https://localhost:8080/"
        },
        "id": "RCS9Q-DKafUd",
        "outputId": "2786a500-206f-4a24-d6e1-4d16baede624"
      },
      "execution_count": 4,
      "outputs": [
        {
          "output_type": "stream",
          "name": "stdout",
          "text": [
            "The file does not exist.\n"
          ]
        }
      ]
    },
    {
      "cell_type": "markdown",
      "source": [
        "23. Write a Python program that writes to a log file when an error occurs during file handling."
      ],
      "metadata": {
        "id": "_Fg2fMm4bdVi"
      }
    },
    {
      "cell_type": "code",
      "source": [
        "import logging\n",
        "\n",
        "logging.basicConfig(filename = \"file_errors.log\",\n",
        "                    level=logging.ERROR,\n",
        "                    format=\"%(asctime)s - %(levlename)s - %(message)s\")\n",
        "file_path = \"example.txt\"\n",
        "\n",
        "try:\n",
        "  with open(file_path, \"r\") as file:\n",
        "    content = file.read()\n",
        "    print(content)\n",
        "\n",
        "except FileNotFoundError as e:\n",
        "  logging.error(f\"File not found: {file_path} - {e}\")\n",
        "  print(\"Error: File not found.\")\n",
        "\n",
        "except PermissionError as e:\n",
        "  logging.error(f\"Permission denied: {file_path} - {e}\")\n",
        "  print(\"Error: You do not have permission to open this file.\")\n",
        "\n",
        "except Exception as e:\n",
        "  logging.error(f\"Unexpected error with {file_path}: {e}\")\n",
        "  print(\"An unexpected error occurred.\")"
      ],
      "metadata": {
        "colab": {
          "base_uri": "https://localhost:8080/"
        },
        "id": "lhAc6L1ZbwoL",
        "outputId": "2d3ad901-fd6b-4518-d458-5975a1484c99"
      },
      "execution_count": 5,
      "outputs": [
        {
          "output_type": "stream",
          "name": "stderr",
          "text": [
            "ERROR:root:File not found: example.txt - [Errno 2] No such file or directory: 'example.txt'\n"
          ]
        },
        {
          "output_type": "stream",
          "name": "stdout",
          "text": [
            "Error: File not found.\n"
          ]
        }
      ]
    }
  ]
}